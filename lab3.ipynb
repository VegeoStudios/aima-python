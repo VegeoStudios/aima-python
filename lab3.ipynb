{
 "cells": [
  {
   "cell_type": "code",
   "execution_count": 24,
   "metadata": {},
   "outputs": [],
   "source": [
    "from mdp import *\n",
    "from utils import print_table\n"
   ]
  },
  {
   "cell_type": "code",
   "execution_count": 25,
   "metadata": {},
   "outputs": [],
   "source": [
    "from numpy import random\n",
    "\n",
    "def MDP_agent(location, pi):\n",
    "    slip = random.choice([1, 0, -1], p=[0.1, 0.8, 0.1])\n",
    "    action = pi[location]\n",
    "\n",
    "    if action is None:\n",
    "        return None\n",
    "\n",
    "    if slip != 0:\n",
    "        if action[0] != 0:\n",
    "            action = (0, slip)\n",
    "        else:\n",
    "            action = (slip, 0)\n",
    "    \n",
    "    x = location[0] + action[0]\n",
    "    x = min(3,max(0,x))\n",
    "    y = location[1] + action[1]\n",
    "    y = min(3,max(0,y))\n",
    "\n",
    "    new_pos = (x, y)\n",
    "    \n",
    "    if new_pos == (1, 2):\n",
    "        return location\n",
    "    else:\n",
    "        return new_pos\n",
    "    \n",
    "def output_agent_log(start_pos, pi):\n",
    "    loc = start_pos\n",
    "\n",
    "    while loc is not None:\n",
    "        print(loc)\n",
    "        loc = MDP_agent(loc, pi)\n",
    "\n",
    "def get_GridMDP(step_cost, gamma):\n",
    "    return GridMDP([[step_cost, step_cost, step_cost, step_cost],\n",
    "                    [step_cost, None, step_cost, step_cost],\n",
    "                    [step_cost, step_cost, step_cost, step_cost],\n",
    "                    [step_cost, -1, step_cost, +10]],\n",
    "                    terminals=[(3, 0), (1, 0)], gamma=gamma)\n",
    "\n",
    "def run_agent_simulation(step_cost, gamma=0.9):\n",
    "    env = get_GridMDP(step_cost, gamma)\n",
    "    pi = best_policy(env, value_iteration(env, .001))\n",
    "    print_table(env.to_arrows(pi))\n",
    "    output_agent_log((3,3), pi)\n",
    "    "
   ]
  },
  {
   "cell_type": "code",
   "execution_count": 26,
   "metadata": {},
   "outputs": [
    {
     "name": "stdout",
     "output_type": "stream",
     "text": [
      ">   >      >   v\n",
      ">   None   v   v\n",
      ">   v      v   v\n",
      ">   .      >   .\n",
      "(3, 3)\n",
      "(3, 2)\n",
      "(3, 1)\n",
      "(3, 0)\n"
     ]
    }
   ],
   "source": [
    "run_agent_simulation(-1,0.1)"
   ]
  }
 ],
 "metadata": {
  "kernelspec": {
   "display_name": "Python 3",
   "language": "python",
   "name": "python3"
  },
  "language_info": {
   "codemirror_mode": {
    "name": "ipython",
    "version": 3
   },
   "file_extension": ".py",
   "mimetype": "text/x-python",
   "name": "python",
   "nbconvert_exporter": "python",
   "pygments_lexer": "ipython3",
   "version": "3.11.9"
  }
 },
 "nbformat": 4,
 "nbformat_minor": 2
}
